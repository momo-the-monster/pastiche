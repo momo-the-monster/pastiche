{
  "nbformat": 4,
  "nbformat_minor": 0,
  "metadata": {
    "colab": {
      "name": "PasticheSearch.ipynb",
      "version": "0.3.2",
      "provenance": [],
      "collapsed_sections": [
        "0P3_8AvITo7f",
        "xfEeYGv3TvCZ"
      ],
      "toc_visible": true,
      "include_colab_link": true
    },
    "kernelspec": {
      "name": "python3",
      "display_name": "Python 3"
    },
    "accelerator": "GPU"
  },
  "cells": [
    {
      "cell_type": "markdown",
      "metadata": {
        "id": "view-in-github",
        "colab_type": "text"
      },
      "source": [
        "<a href=\"https://colab.research.google.com/github/momo-the-monster/pastiche/blob/feature%2Fadd-colab-notebook/PasticheSearch.ipynb\" target=\"_parent\"><img src=\"https://colab.research.google.com/assets/colab-badge.svg\" alt=\"Open In Colab\"/></a>"
      ]
    },
    {
      "cell_type": "markdown",
      "metadata": {
        "id": "Z48MvflyFzl5",
        "colab_type": "text"
      },
      "source": [
        "# P A S T I C H E \n",
        "## . Style Search Tool .\n",
        "---\n",
        ". \n",
        "\n",
        "Uses [Pastiche](https://github.com/dstein64/pastiche) for PyTorch to conduct batch processing of Neural Style Transfer\n",
        "\n",
        "\n",
        "---\n",
        "\n",
        "\n"
      ]
    },
    {
      "cell_type": "markdown",
      "metadata": {
        "id": "ep81wLDMw1-9",
        "colab_type": "text"
      },
      "source": [
        "#1. Startup"
      ]
    },
    {
      "cell_type": "code",
      "metadata": {
        "id": "NMPCekcot8Kz",
        "colab_type": "code",
        "outputId": "37bcf89e-2a2a-4cf1-949a-e9b1c4eb82fa",
        "colab": {
          "base_uri": "https://localhost:8080/"
        }
      },
      "source": [
        "# install pastiche from pip. You can install directly from git, too if you want to run off your own branch.\n",
        "!pip install pastiche\n",
        "\n",
        "####\n",
        "# Create Directories for Style and Content images\n",
        "####\n",
        "\n",
        "import os\n",
        "\n",
        "# convenience method to make dirs because os.makedirs fails if dir exists\n",
        "def create_dir(directory):\n",
        "  if not os.path.exists(directory):\n",
        "    os.makedirs(directory)\n",
        "    \n",
        "# create required directories\n",
        "create_dir('contents')\n",
        "create_dir('styles')\n",
        "\n",
        "# declare path arrays in global scope\n",
        "styles = []\n",
        "contents = []\n",
        "\n",
        "# refresh cache of pictures from storage\n",
        "def refreshFiles():\n",
        "  from os.path import join\n",
        "  from glob import glob\n",
        "  \n",
        "  styles.clear()\n",
        "  contents.clear()\n",
        "\n",
        "  for ext in ('*.gif', '*.png', '*.jpg'):\n",
        "     styles.extend(glob(join(\"styles\", ext)))\n",
        "\n",
        "  print('using styles', styles)\n",
        "\n",
        "  for ext in ('*.gif', '*.png', '*.jpg'):\n",
        "     contents.extend(glob(join(\"contents\", ext)))\n",
        "\n",
        "  print('using contents', contents)"
      ],
      "execution_count": 0,
      "outputs": [
        {
          "output_type": "stream",
          "text": [
            "Requirement already satisfied: pastiche in /usr/local/lib/python3.6/dist-packages (0.1.5)\n",
            "Requirement already satisfied: torchvision in /usr/local/lib/python3.6/dist-packages (from pastiche) (0.3.0)\n",
            "Requirement already satisfied: h5py in /usr/local/lib/python3.6/dist-packages (from pastiche) (2.8.0)\n",
            "Requirement already satisfied: torch in /usr/local/lib/python3.6/dist-packages (from pastiche) (1.1.0)\n",
            "Requirement already satisfied: pillow in /usr/local/lib/python3.6/dist-packages (from pastiche) (4.3.0)\n",
            "Requirement already satisfied: six in /usr/local/lib/python3.6/dist-packages (from torchvision->pastiche) (1.12.0)\n",
            "Requirement already satisfied: numpy in /usr/local/lib/python3.6/dist-packages (from torchvision->pastiche) (1.16.4)\n",
            "Requirement already satisfied: olefile in /usr/local/lib/python3.6/dist-packages (from pillow->pastiche) (0.46)\n"
          ],
          "name": "stdout"
        }
      ]
    },
    {
      "cell_type": "markdown",
      "metadata": {
        "id": "dXYmqdbTwjgP",
        "colab_type": "text"
      },
      "source": [
        "# 2. Add images to the *styles* and *contents* folders.\n",
        "\n",
        "\n",
        "---\n",
        "\n",
        "\n",
        "Drag and Drop from your Desktop to the 'Files' tab on the left."
      ]
    },
    {
      "cell_type": "markdown",
      "metadata": {
        "id": "0P3_8AvITo7f",
        "colab_type": "text"
      },
      "source": [
        "# 3. Set Your Options"
      ]
    },
    {
      "cell_type": "code",
      "metadata": {
        "id": "u5S_MT3Au0ZH",
        "colab_type": "code",
        "cellView": "both",
        "colab": {}
      },
      "source": [
        "#@title Options\n",
        "\n",
        "iterations = 250 #@param {type:\"slider\", min:10, max:1000, step:10}\n",
        "preserveColor = 'Yes' #@param [\"Yes\", \"No\", \"Both\"]\n",
        "contentWeightsString = '1, 10, 100000' #@param {type:\"string\"}\n",
        "styleWeightsString = '1, 10, 100000' #@param {type:\"string\"}"
      ],
      "execution_count": 0,
      "outputs": []
    },
    {
      "cell_type": "markdown",
      "metadata": {
        "id": "xfEeYGv3TvCZ",
        "colab_type": "text"
      },
      "source": [
        "#4. Run The Batch"
      ]
    },
    {
      "cell_type": "code",
      "metadata": {
        "id": "tLox4ClB2U1K",
        "colab_type": "code",
        "outputId": "ebee1198-34ac-4be5-f58d-b80f13e5fe76",
        "colab": {
          "base_uri": "https://localhost:8080/",
          "height": 544
        }
      },
      "source": [
        "import numpy\n",
        "import time\n",
        "contentWeights = numpy.fromstring( contentWeightsString, dtype=numpy.float, sep=',' )\n",
        "styleWeights = numpy.fromstring( styleWeightsString, dtype=numpy.float, sep=',' )\n",
        "timestamp = time.strftime(\"%Y%m%d-%H%M%S\")\n",
        "outputs = 'outputs-{}'.format(timestamp)\n",
        "create_dir(outputs)\n",
        "refreshFiles()\n",
        "\n",
        "for style in styles:\n",
        "  for content in contents:\n",
        "      for cw in contentWeights:\n",
        "        for sw in styleWeights:\n",
        "          styleFile = os.path.splitext(os.path.basename(style))[0]\n",
        "          contentFile = os.path.splitext(os.path.basename(content))[0]\n",
        "          combo = 's_{}_c_{}_cw{}_sw{}_i{}'.format(styleFile, contentFile, cw, sw, iterations)\n",
        "          output = os.path.join(outputs, combo)\n",
        "          !pastiche {content} {style} {output}.png --num-steps {iterations} --content-weights {cw} --style-weights {sw} --no-verbose --preserve-color\n",
        "    \n",
        "# Zip and Download outputs\n",
        "from google.colab import files\n",
        "zipfile = 'out-{}.zip'.format(timestamp)\n",
        "!zip -r {zipfile} {outputs}\n",
        "files.download(zipfile)"
      ],
      "execution_count": 0,
      "outputs": [
        {
          "output_type": "stream",
          "text": [
            "styles ['styles/d.jpg']\n",
            "contents ['contents/melissa.jpg']\n",
            "  adding: outputs-20190703-025041/ (stored 0%)\n",
            "  adding: outputs-20190703-025041/s_d_c_melissa_cw1.0_sw100000.0_i250.png (deflated 0%)\n",
            "  adding: outputs-20190703-025041/s_d_c_melissa_cw100000.0_sw10.0_i250.png (deflated 0%)\n",
            "  adding: outputs-20190703-025041/s_d_c_melissa_cw1.0_sw10.0_i250.png (deflated 0%)\n",
            "  adding: outputs-20190703-025041/s_d_c_melissa_cw10.0_sw1.0_i250.png (deflated 0%)\n",
            "  adding: outputs-20190703-025041/s_d_c_melissa_cw100000.0_sw100000.0_i250.png (deflated 0%)\n",
            "  adding: outputs-20190703-025041/s_d_c_melissa_cw100000.0_sw1.0_i250.png (deflated 0%)\n",
            "  adding: outputs-20190703-025041/s_d_c_melissa_cw10.0_sw100000.0_i250.png (deflated 0%)\n",
            "  adding: outputs-20190703-025041/s_d_c_melissa_cw10.0_sw10.0_i250.png (deflated 0%)\n",
            "  adding: outputs-20190703-025041/s_d_c_melissa_cw1.0_sw1.0_i250.png (deflated 0%)\n"
          ],
          "name": "stdout"
        },
        {
          "output_type": "error",
          "ename": "MessageError",
          "evalue": "ignored",
          "traceback": [
            "\u001b[0;31m---------------------------------------------------------------------------\u001b[0m",
            "\u001b[0;31mMessageError\u001b[0m                              Traceback (most recent call last)",
            "\u001b[0;32m<ipython-input-3-d73878e903ac>\u001b[0m in \u001b[0;36m<module>\u001b[0;34m()\u001b[0m\n\u001b[1;32m     22\u001b[0m \u001b[0mzipfile\u001b[0m \u001b[0;34m=\u001b[0m \u001b[0;34m'out-{}.zip'\u001b[0m\u001b[0;34m.\u001b[0m\u001b[0mformat\u001b[0m\u001b[0;34m(\u001b[0m\u001b[0mtimestamp\u001b[0m\u001b[0;34m)\u001b[0m\u001b[0;34m\u001b[0m\u001b[0;34m\u001b[0m\u001b[0m\n\u001b[1;32m     23\u001b[0m \u001b[0mget_ipython\u001b[0m\u001b[0;34m(\u001b[0m\u001b[0;34m)\u001b[0m\u001b[0;34m.\u001b[0m\u001b[0msystem\u001b[0m\u001b[0;34m(\u001b[0m\u001b[0;34m'zip -r {zipfile} {outputs}'\u001b[0m\u001b[0;34m)\u001b[0m\u001b[0;34m\u001b[0m\u001b[0;34m\u001b[0m\u001b[0m\n\u001b[0;32m---> 24\u001b[0;31m \u001b[0mfiles\u001b[0m\u001b[0;34m.\u001b[0m\u001b[0mdownload\u001b[0m\u001b[0;34m(\u001b[0m\u001b[0mzipfile\u001b[0m\u001b[0;34m)\u001b[0m\u001b[0;34m\u001b[0m\u001b[0;34m\u001b[0m\u001b[0m\n\u001b[0m",
            "\u001b[0;32m/usr/local/lib/python3.6/dist-packages/google/colab/files.py\u001b[0m in \u001b[0;36mdownload\u001b[0;34m(filename)\u001b[0m\n\u001b[1;32m    176\u001b[0m       \u001b[0;34m'port'\u001b[0m\u001b[0;34m:\u001b[0m \u001b[0mport\u001b[0m\u001b[0;34m,\u001b[0m\u001b[0;34m\u001b[0m\u001b[0;34m\u001b[0m\u001b[0m\n\u001b[1;32m    177\u001b[0m       \u001b[0;34m'path'\u001b[0m\u001b[0;34m:\u001b[0m \u001b[0m_os\u001b[0m\u001b[0;34m.\u001b[0m\u001b[0mpath\u001b[0m\u001b[0;34m.\u001b[0m\u001b[0mabspath\u001b[0m\u001b[0;34m(\u001b[0m\u001b[0mfilename\u001b[0m\u001b[0;34m)\u001b[0m\u001b[0;34m,\u001b[0m\u001b[0;34m\u001b[0m\u001b[0;34m\u001b[0m\u001b[0m\n\u001b[0;32m--> 178\u001b[0;31m       \u001b[0;34m'name'\u001b[0m\u001b[0;34m:\u001b[0m \u001b[0m_os\u001b[0m\u001b[0;34m.\u001b[0m\u001b[0mpath\u001b[0m\u001b[0;34m.\u001b[0m\u001b[0mbasename\u001b[0m\u001b[0;34m(\u001b[0m\u001b[0mfilename\u001b[0m\u001b[0;34m)\u001b[0m\u001b[0;34m,\u001b[0m\u001b[0;34m\u001b[0m\u001b[0;34m\u001b[0m\u001b[0m\n\u001b[0m\u001b[1;32m    179\u001b[0m   })\n",
            "\u001b[0;32m/usr/local/lib/python3.6/dist-packages/google/colab/output/_js.py\u001b[0m in \u001b[0;36meval_js\u001b[0;34m(script, ignore_result)\u001b[0m\n\u001b[1;32m     37\u001b[0m   \u001b[0;32mif\u001b[0m \u001b[0mignore_result\u001b[0m\u001b[0;34m:\u001b[0m\u001b[0;34m\u001b[0m\u001b[0;34m\u001b[0m\u001b[0m\n\u001b[1;32m     38\u001b[0m     \u001b[0;32mreturn\u001b[0m\u001b[0;34m\u001b[0m\u001b[0;34m\u001b[0m\u001b[0m\n\u001b[0;32m---> 39\u001b[0;31m   \u001b[0;32mreturn\u001b[0m \u001b[0m_message\u001b[0m\u001b[0;34m.\u001b[0m\u001b[0mread_reply_from_input\u001b[0m\u001b[0;34m(\u001b[0m\u001b[0mrequest_id\u001b[0m\u001b[0;34m)\u001b[0m\u001b[0;34m\u001b[0m\u001b[0;34m\u001b[0m\u001b[0m\n\u001b[0m\u001b[1;32m     40\u001b[0m \u001b[0;34m\u001b[0m\u001b[0m\n\u001b[1;32m     41\u001b[0m \u001b[0;34m\u001b[0m\u001b[0m\n",
            "\u001b[0;32m/usr/local/lib/python3.6/dist-packages/google/colab/_message.py\u001b[0m in \u001b[0;36mread_reply_from_input\u001b[0;34m(message_id, timeout_sec)\u001b[0m\n\u001b[1;32m    104\u001b[0m         reply.get('colab_msg_id') == message_id):\n\u001b[1;32m    105\u001b[0m       \u001b[0;32mif\u001b[0m \u001b[0;34m'error'\u001b[0m \u001b[0;32min\u001b[0m \u001b[0mreply\u001b[0m\u001b[0;34m:\u001b[0m\u001b[0;34m\u001b[0m\u001b[0;34m\u001b[0m\u001b[0m\n\u001b[0;32m--> 106\u001b[0;31m         \u001b[0;32mraise\u001b[0m \u001b[0mMessageError\u001b[0m\u001b[0;34m(\u001b[0m\u001b[0mreply\u001b[0m\u001b[0;34m[\u001b[0m\u001b[0;34m'error'\u001b[0m\u001b[0;34m]\u001b[0m\u001b[0;34m)\u001b[0m\u001b[0;34m\u001b[0m\u001b[0;34m\u001b[0m\u001b[0m\n\u001b[0m\u001b[1;32m    107\u001b[0m       \u001b[0;32mreturn\u001b[0m \u001b[0mreply\u001b[0m\u001b[0;34m.\u001b[0m\u001b[0mget\u001b[0m\u001b[0;34m(\u001b[0m\u001b[0;34m'data'\u001b[0m\u001b[0;34m,\u001b[0m \u001b[0;32mNone\u001b[0m\u001b[0;34m)\u001b[0m\u001b[0;34m\u001b[0m\u001b[0;34m\u001b[0m\u001b[0m\n\u001b[1;32m    108\u001b[0m \u001b[0;34m\u001b[0m\u001b[0m\n",
            "\u001b[0;31mMessageError\u001b[0m: TypeError: Failed to fetch"
          ]
        }
      ]
    },
    {
      "cell_type": "markdown",
      "metadata": {
        "id": "VnJNqCNzFrya",
        "colab_type": "text"
      },
      "source": [
        "# Re-Download the Latest Output"
      ]
    },
    {
      "cell_type": "code",
      "metadata": {
        "id": "vFdUPQhFdKHi",
        "colab_type": "code",
        "colab": {}
      },
      "source": [
        "# Zip and Download outputs\n",
        "from google.colab import files\n",
        "zipfile = 'out-{}.zip'.format(timestamp)\n",
        "!zip -r {zipfile} {outputs}\n",
        "files.download(zipfile)"
      ],
      "execution_count": 0,
      "outputs": []
    },
    {
      "cell_type": "code",
      "metadata": {
        "id": "UH_eamjFI25c",
        "colab_type": "code",
        "outputId": "e2af4174-f838-40c4-ff7f-db92e350ab4c",
        "colab": {
          "base_uri": "https://localhost:8080/",
          "height": 221
        }
      },
      "source": [
        "# Clear File Storage\n",
        "!rm -rf outputs"
      ],
      "execution_count": 0,
      "outputs": [
        {
          "output_type": "error",
          "ename": "OSError",
          "evalue": "ignored",
          "traceback": [
            "\u001b[0;31m---------------------------------------------------------------------------\u001b[0m",
            "\u001b[0;31mOSError\u001b[0m                                   Traceback (most recent call last)",
            "\u001b[0;32m<ipython-input-9-cf5249831873>\u001b[0m in \u001b[0;36m<module>\u001b[0;34m()\u001b[0m\n\u001b[0;32m----> 1\u001b[0;31m \u001b[0mget_ipython\u001b[0m\u001b[0;34m(\u001b[0m\u001b[0;34m)\u001b[0m\u001b[0;34m.\u001b[0m\u001b[0msystem\u001b[0m\u001b[0;34m(\u001b[0m\u001b[0;34m'rm -rf outputs'\u001b[0m\u001b[0;34m)\u001b[0m\u001b[0;34m\u001b[0m\u001b[0;34m\u001b[0m\u001b[0m\n\u001b[0m",
            "\u001b[0;32m/usr/local/lib/python3.6/dist-packages/google/colab/_shell.py\u001b[0m in \u001b[0;36msystem\u001b[0;34m(self, *args, **kwargs)\u001b[0m\n\u001b[1;32m     72\u001b[0m       \u001b[0mkwargs\u001b[0m\u001b[0;34m.\u001b[0m\u001b[0mupdate\u001b[0m\u001b[0;34m(\u001b[0m\u001b[0;34m{\u001b[0m\u001b[0;34m'also_return_output'\u001b[0m\u001b[0;34m:\u001b[0m \u001b[0;32mTrue\u001b[0m\u001b[0;34m}\u001b[0m\u001b[0;34m)\u001b[0m\u001b[0;34m\u001b[0m\u001b[0;34m\u001b[0m\u001b[0m\n\u001b[1;32m     73\u001b[0m \u001b[0;34m\u001b[0m\u001b[0m\n\u001b[0;32m---> 74\u001b[0;31m     \u001b[0moutput\u001b[0m \u001b[0;34m=\u001b[0m \u001b[0m_system_commands\u001b[0m\u001b[0;34m.\u001b[0m\u001b[0m_system_compat\u001b[0m\u001b[0;34m(\u001b[0m\u001b[0mself\u001b[0m\u001b[0;34m,\u001b[0m \u001b[0;34m*\u001b[0m\u001b[0margs\u001b[0m\u001b[0;34m,\u001b[0m \u001b[0;34m**\u001b[0m\u001b[0mkwargs\u001b[0m\u001b[0;34m)\u001b[0m  \u001b[0;31m# pylint:disable=protected-access\u001b[0m\u001b[0;34m\u001b[0m\u001b[0;34m\u001b[0m\u001b[0m\n\u001b[0m\u001b[1;32m     75\u001b[0m \u001b[0;34m\u001b[0m\u001b[0m\n\u001b[1;32m     76\u001b[0m     \u001b[0;32mif\u001b[0m \u001b[0mpip_warn\u001b[0m\u001b[0;34m:\u001b[0m\u001b[0;34m\u001b[0m\u001b[0;34m\u001b[0m\u001b[0m\n",
            "\u001b[0;32m/usr/local/lib/python3.6/dist-packages/google/colab/_system_commands.py\u001b[0m in \u001b[0;36m_system_compat\u001b[0;34m(shell, cmd, also_return_output)\u001b[0m\n\u001b[1;32m    436\u001b[0m   \u001b[0;31m# stack.\u001b[0m\u001b[0;34m\u001b[0m\u001b[0;34m\u001b[0m\u001b[0;34m\u001b[0m\u001b[0m\n\u001b[1;32m    437\u001b[0m   result = _run_command(\n\u001b[0;32m--> 438\u001b[0;31m       shell.var_expand(cmd, depth=2), clear_streamed_output=False)\n\u001b[0m\u001b[1;32m    439\u001b[0m   \u001b[0mshell\u001b[0m\u001b[0;34m.\u001b[0m\u001b[0muser_ns\u001b[0m\u001b[0;34m[\u001b[0m\u001b[0;34m'_exit_code'\u001b[0m\u001b[0;34m]\u001b[0m \u001b[0;34m=\u001b[0m \u001b[0mresult\u001b[0m\u001b[0;34m.\u001b[0m\u001b[0mreturncode\u001b[0m\u001b[0;34m\u001b[0m\u001b[0;34m\u001b[0m\u001b[0m\n\u001b[1;32m    440\u001b[0m   \u001b[0;32mif\u001b[0m \u001b[0;34m-\u001b[0m\u001b[0mresult\u001b[0m\u001b[0;34m.\u001b[0m\u001b[0mreturncode\u001b[0m \u001b[0;32min\u001b[0m \u001b[0m_INTERRUPTED_SIGNALS\u001b[0m\u001b[0;34m:\u001b[0m\u001b[0;34m\u001b[0m\u001b[0;34m\u001b[0m\u001b[0m\n",
            "\u001b[0;32m/usr/local/lib/python3.6/dist-packages/google/colab/_system_commands.py\u001b[0m in \u001b[0;36m_run_command\u001b[0;34m(cmd, clear_streamed_output)\u001b[0m\n\u001b[1;32m    167\u001b[0m         'A UTF-8 locale is required. Got {}'.format(locale_encoding))\n\u001b[1;32m    168\u001b[0m \u001b[0;34m\u001b[0m\u001b[0m\n\u001b[0;32m--> 169\u001b[0;31m   \u001b[0mparent_pty\u001b[0m\u001b[0;34m,\u001b[0m \u001b[0mchild_pty\u001b[0m \u001b[0;34m=\u001b[0m \u001b[0mpty\u001b[0m\u001b[0;34m.\u001b[0m\u001b[0mopenpty\u001b[0m\u001b[0;34m(\u001b[0m\u001b[0;34m)\u001b[0m\u001b[0;34m\u001b[0m\u001b[0;34m\u001b[0m\u001b[0m\n\u001b[0m\u001b[1;32m    170\u001b[0m   \u001b[0m_configure_term_settings\u001b[0m\u001b[0;34m(\u001b[0m\u001b[0mchild_pty\u001b[0m\u001b[0;34m)\u001b[0m\u001b[0;34m\u001b[0m\u001b[0;34m\u001b[0m\u001b[0m\n\u001b[1;32m    171\u001b[0m \u001b[0;34m\u001b[0m\u001b[0m\n",
            "\u001b[0;32m/usr/lib/python3.6/pty.py\u001b[0m in \u001b[0;36mopenpty\u001b[0;34m()\u001b[0m\n",
            "\u001b[0;32m/usr/lib/python3.6/pty.py\u001b[0m in \u001b[0;36m_open_terminal\u001b[0;34m()\u001b[0m\n",
            "\u001b[0;31mOSError\u001b[0m: out of pty devices"
          ]
        }
      ]
    }
  ]
}